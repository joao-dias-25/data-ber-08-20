{
 "cells": [
  {
   "cell_type": "code",
   "execution_count": 3,
   "metadata": {},
   "outputs": [],
   "source": [
    "# Message Encryption & Decryption"
   ]
  },
  {
   "cell_type": "code",
   "execution_count": 4,
   "metadata": {},
   "outputs": [],
   "source": [
    "# import libraries\n",
    "import hashlib \n",
    "\n",
    "# import librarie to hide pass\n",
    "import getpass\n",
    "\n",
    "# import path librarie\n",
    "import os\n",
    "\n",
    "# import \n",
    "\n",
    "from cryptography.fernet import Fernet"
   ]
  },
  {
   "cell_type": "code",
   "execution_count": 5,
   "metadata": {},
   "outputs": [
    {
     "name": "stdout",
     "output_type": "stream",
     "text": [
      "give a user name with: joa\n",
      "Please enter the password :········\n"
     ]
    },
    {
     "data": {
      "text/plain": [
       "('joa', 'di')"
      ]
     },
     "execution_count": 5,
     "metadata": {},
     "output_type": "execute_result"
    }
   ],
   "source": [
    "# login to enter a message\n",
    "\n",
    "def login_for_msg():\n",
    "    user_name=input(\"give a user name with: \")\n",
    "    \n",
    "    # check the pass for min 8 char a number and a sign\n",
    "    \n",
    "    user_pass= getpass.getpass(\"Please enter the password :\")\n",
    "    \n",
    "       \n",
    "       \n",
    "    return user_name,user_pass\n",
    "\n",
    "\n",
    "login_for_msg()\n"
   ]
  },
  {
   "cell_type": "code",
   "execution_count": 10,
   "metadata": {},
   "outputs": [
    {
     "data": {
      "text/plain": [
       "b'rHie_oCzQlgVFSx4vpATeFVrEQrPnnweVHTO-rBFKN4='"
      ]
     },
     "execution_count": 10,
     "metadata": {},
     "output_type": "execute_result"
    }
   ],
   "source": [
    "def genwrite_key():\n",
    "    key = Fernet.generate_key()\n",
    "    with open(\"long_pass.key\", \"wb\") as key_file:\n",
    "        \n",
    "        key_file.write(key)\n",
    "\n",
    "genwrite_key()\n",
    "        \n",
    "# Function to load the key\n",
    "def read_key():\n",
    "                  return open(\"long_pass.key\", \"rb\").read()\n",
    "    \n",
    "read_key()\n",
    "    "
   ]
  },
  {
   "cell_type": "code",
   "execution_count": 17,
   "metadata": {},
   "outputs": [
    {
     "name": "stdout",
     "output_type": "stream",
     "text": [
      "<cryptography.fernet.Fernet object at 0x000001EAA9F61B80>\n",
      "write your code message: jargrg\n"
     ]
    }
   ],
   "source": [
    "\n",
    "x=genwrite_key()\n",
    "y=Fernet(read_key())\n",
    "\n",
    "print(y)\n",
    "\n",
    "def msg_function():\n",
    "    \n",
    "    \n",
    "    # the message must be converted to bytes\n",
    "    \n",
    "    msg=bytes( input(\"write your code message: \"), 'utf-8')\n",
    "    \n",
    "        \n",
    "    # encrypt the message \n",
    "    \n",
    "    encrypt_msg=y.encrypt(msg)\n",
    "    \n",
    "    # save my secret notes into a file\n",
    "    \n",
    "    with open(\"text.txt\", \"wb\") as text:\n",
    "        \n",
    "        text.write(encrypt_msg)\n",
    "    \n",
    "\n",
    "    \n",
    "    return \n",
    "\n",
    "msg_function()"
   ]
  },
  {
   "cell_type": "code",
   "execution_count": 16,
   "metadata": {},
   "outputs": [
    {
     "name": "stdout",
     "output_type": "stream",
     "text": [
      "paste your encrypted message: gAAAAABfNooo0_Nhd1KzdTEAj0D8DOImmR1YXWdNf8IMvHibx7DPcW4OEV9p55bhuVKKJkOKVuflgm9noJMsagnT7iQP5cz-XQ==\n"
     ]
    },
    {
     "data": {
      "text/plain": [
       "b'joao'"
      ]
     },
     "execution_count": 16,
     "metadata": {},
     "output_type": "execute_result"
    }
   ],
   "source": [
    "# decrypt the message with function\n",
    "\n",
    "def decrypt_msg():\n",
    "    \n",
    "    x=bytes(input(\"paste your encrypted message: \"), 'utf-8')\n",
    "    \n",
    "    o_msg=y.decrypt(x)\n",
    "    \n",
    "    return o_msg\n",
    "\n",
    "decrypt_msg()\n",
    "    "
   ]
  },
  {
   "cell_type": "code",
   "execution_count": null,
   "metadata": {},
   "outputs": [],
   "source": []
  }
 ],
 "metadata": {
  "kernelspec": {
   "display_name": "Python 3",
   "language": "python",
   "name": "python3"
  },
  "language_info": {
   "codemirror_mode": {
    "name": "ipython",
    "version": 3
   },
   "file_extension": ".py",
   "mimetype": "text/x-python",
   "name": "python",
   "nbconvert_exporter": "python",
   "pygments_lexer": "ipython3",
   "version": "3.8.3"
  }
 },
 "nbformat": 4,
 "nbformat_minor": 4
}
