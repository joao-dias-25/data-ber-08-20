{
 "cells": [
  {
   "cell_type": "code",
   "execution_count": 3,
   "metadata": {},
   "outputs": [],
   "source": [
    "# Message Encryption & Decryption"
   ]
  },
  {
   "cell_type": "code",
   "execution_count": 130,
   "metadata": {},
   "outputs": [],
   "source": [
    "# import librarie to hide pass\n",
    "import getpass\n",
    "\n",
    "# import path librarie\n",
    "import os\n",
    "\n",
    "# import \n",
    "\n",
    "from cryptography.fernet import Fernet"
   ]
  },
  {
   "cell_type": "code",
   "execution_count": 136,
   "metadata": {},
   "outputs": [
    {
     "name": "stdout",
     "output_type": "stream",
     "text": [
      "name of the key :dias\n",
      "b'VjpTFt0dK8j_qVIP2tWh3XpNznM6QBIw33_YWoZ9G98='\n"
     ]
    }
   ],
   "source": [
    "def gen_write_key():\n",
    "    key = Fernet.generate_key()\n",
    "    chave=input('name of the key :')\n",
    "    with open(chave, \"wb\") as filekey:\n",
    "        \n",
    "        \n",
    "        filekey.write(key)\n",
    "    return print(key)\n",
    "\n",
    "gen_write_key()\n",
    "\n",
    "    "
   ]
  },
  {
   "cell_type": "code",
   "execution_count": 134,
   "metadata": {},
   "outputs": [],
   "source": [
    "# Function to load the key\n",
    "\n",
    "def read_key():\n",
    "    x=input('choose your key file: ')\n",
    "    return open(x, \"rb\").read()\n",
    "\n",
    "\n",
    "\n",
    "def msg_function():\n",
    "    \n",
    "    \n",
    "    # the message must be converted to bytes\n",
    "\n",
    "    \n",
    "    msg=bytes( input(\"write your code message: \"), 'utf-8')\n",
    "    \n",
    "    y=Fernet(read_key())    \n",
    "    # encrypt the message in a byte like object\n",
    "    \n",
    "    encrypt_token=y.encrypt(msg)\n",
    "        \n",
    "    # save my secret notes into a file\n",
    "    \n",
    "    secret_file=input(\"name your secret file: \")\n",
    "    \n",
    "    with open(secret_file+\".txt\", 'a') as text:\n",
    "        \n",
    "        text.write(str(encrypt_token)+' ')\n",
    "        print(\"your message was encrypted and saved in the text file!\")\n",
    "        text.close()\n",
    "    \n",
    "   \n",
    "    return \n"
   ]
  },
  {
   "cell_type": "code",
   "execution_count": 139,
   "metadata": {},
   "outputs": [
    {
     "name": "stdout",
     "output_type": "stream",
     "text": [
      "User Pass: ········\n",
      "Hi !\n",
      "write your code message: efoiasfgr\n",
      "choose your key file: dias\n",
      "name your secret file: text\n",
      "your message was encrypted and saved in the text file!\n"
     ]
    }
   ],
   "source": [
    "# login to access the encryption message method\n",
    "\n",
    "while True: \n",
    "    password = getpass.getpass(\"User Pass: \") \n",
    "  \n",
    "    if password == 'dias': \n",
    "        print (\"Hi !\")\n",
    "        msg_function()\n",
    "        \n",
    "        \n",
    "        break\n",
    "        \n",
    "    else: \n",
    "        print (\"The password you entered is incorrect.\")\n",
    "\n",
    "\n",
    "\n"
   ]
  },
  {
   "cell_type": "code",
   "execution_count": 124,
   "metadata": {},
   "outputs": [
    {
     "name": "stdout",
     "output_type": "stream",
     "text": [
      "choose your secret notes file: secret_notes.txt\n",
      "[[\"b'gAAAAABfNrQuT-9EmZrn3SAWbthF5kVwGKhlumh7c33Y2TyVW__oyMTqmCyb_rl-leqHz_CLcD8hdaM9i4N0UWrDS2Kj-vTvEA=='\\n\"]]\n"
     ]
    }
   ],
   "source": [
    "# decrypt the message with function\n",
    "\n",
    "def decrypt_msg():\n",
    "    \n",
    "    # the message must be converted to bytes\n",
    "    \n",
    "    file=input(\"choose your secret notes file: \")\n",
    "    li=[]\n",
    "    with open(file, 'r') as secret_t:\n",
    "        \n",
    "        line=secret_t.readlines()\n",
    "        li.append(line)\n",
    "        print(li)\n",
    "    \n",
    "               \n",
    "        \n",
    "        \"\"\"\"\"print(\"your message was encrypted and saved in the text file!\")\n",
    "        text.close()\n",
    "        text = f.read()\n",
    "            text=text.replace('.','')\n",
    "            text=text.lower()\n",
    "            li.append(text)\n",
    "    \n",
    "    \n",
    "    m=bytes(file, 'utf-8')\n",
    "    \n",
    "    x=Fernet(read_key()) \n",
    "    \n",
    "    o=x.decrypt(m)\n",
    "    \n",
    "    \n",
    "\n",
    "    print(o)\"\"\"\n",
    "    \n",
    "    return \n",
    "\n",
    "decrypt_msg()\n",
    "    "
   ]
  },
  {
   "cell_type": "code",
   "execution_count": null,
   "metadata": {},
   "outputs": [],
   "source": []
  }
 ],
 "metadata": {
  "kernelspec": {
   "display_name": "Python 3",
   "language": "python",
   "name": "python3"
  },
  "language_info": {
   "codemirror_mode": {
    "name": "ipython",
    "version": 3
   },
   "file_extension": ".py",
   "mimetype": "text/x-python",
   "name": "python",
   "nbconvert_exporter": "python",
   "pygments_lexer": "ipython3",
   "version": "3.8.3"
  }
 },
 "nbformat": 4,
 "nbformat_minor": 4
}
