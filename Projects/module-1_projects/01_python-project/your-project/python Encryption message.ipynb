{
 "cells": [
  {
   "cell_type": "code",
   "execution_count": 3,
   "metadata": {},
   "outputs": [],
   "source": [
    "# Message Encryption & Decryption"
   ]
  },
  {
   "cell_type": "code",
   "execution_count": 1,
   "metadata": {},
   "outputs": [],
   "source": [
    "# import librarie to hide pass\n",
    "import getpass\n",
    "\n",
    "# import path librarie\n",
    "import os\n",
    "\n",
    "# import \n",
    "\n",
    "from cryptography.fernet import Fernet"
   ]
  },
  {
   "cell_type": "code",
   "execution_count": 2,
   "metadata": {},
   "outputs": [
    {
     "name": "stdout",
     "output_type": "stream",
     "text": [
      "name of the key :sabado\n",
      "b'MfYqVeOhopDBegXCVaC9MM6JtQGDAzF2VknOXKFibvo='\n"
     ]
    }
   ],
   "source": [
    "def gen_write_key():\n",
    "    key = Fernet.generate_key()\n",
    "    chave=input('name of the key :')\n",
    "    with open(chave, \"wb\") as filekey:\n",
    "        \n",
    "        \n",
    "        filekey.write(key)\n",
    "    return print(key)\n",
    "\n",
    "gen_write_key()\n",
    "\n",
    "    "
   ]
  },
  {
   "cell_type": "code",
   "execution_count": 38,
   "metadata": {},
   "outputs": [],
   "source": [
    "# Function to load the key\n",
    "\n",
    "def read_key():\n",
    "    x=input('choose your key file: ')\n",
    "    return open(x, \"rb\").read()\n",
    "\n",
    "\n",
    "\n",
    "def msg_function():\n",
    "    \n",
    "    \n",
    "    # the message must be converted to bytes\n",
    "\n",
    "    \n",
    "    msg=bytes( input(\"write your code message: \"), 'utf-8')\n",
    "    \n",
    "    y=Fernet(read_key())    \n",
    "    # encrypt the message in a byte like object\n",
    "    \n",
    "    encrypt_token=y.encrypt(msg)\n",
    "        \n",
    "    # save my secret notes into a file\n",
    "    \n",
    "    secret_file=input(\"name your secret file: \")\n",
    "    \n",
    "    with open(secret_file+\".txt\", 'a') as text:\n",
    "        \n",
    "        # for easy storage and convert back to bytes the message is saved in a hex format\n",
    "\n",
    "        text.write(encrypt_token.hex()+'\\n') \n",
    "        print(\"your message was encrypted and saved in the text file!\")\n",
    "        text.close()\n",
    "    \n",
    "   \n",
    "    return \n"
   ]
  },
  {
   "cell_type": "code",
   "execution_count": 40,
   "metadata": {},
   "outputs": [
    {
     "name": "stdout",
     "output_type": "stream",
     "text": [
      "User Pass: ········\n",
      "Hi !\n",
      "write your code message: segunda linha\n",
      "choose your key file: sabado\n",
      "name your secret file: novo2\n",
      "your message was encrypted and saved in the text file!\n"
     ]
    }
   ],
   "source": [
    "# login to access the encryption message method\n",
    "\n",
    "while True: \n",
    "    password = getpass.getpass(\"User Pass: \") \n",
    "  \n",
    "    if password == 'dias': \n",
    "        print (\"Hi !\")\n",
    "        msg_function()\n",
    "        \n",
    "        \n",
    "        break\n",
    "        \n",
    "    else: \n",
    "        print (\"The password you entered is incorrect.\")\n",
    "\n",
    "\n",
    "\n"
   ]
  },
  {
   "cell_type": "code",
   "execution_count": 59,
   "metadata": {},
   "outputs": [
    {
     "name": "stdout",
     "output_type": "stream",
     "text": [
      "choose your secret notes file: novo2\n",
      "choose your key file: sabado\n"
     ]
    },
    {
     "data": {
      "text/plain": [
       "[b'asoiru ifogs iousf fsoiusfd', b'segunda linha']"
      ]
     },
     "execution_count": 59,
     "metadata": {},
     "output_type": "execute_result"
    }
   ],
   "source": [
    "# decrypt the message with function\n",
    "\n",
    "def decrypt_msg():\n",
    "        \n",
    "    \n",
    "    file=input(\"choose your secret notes file: \")\n",
    "    \n",
    "    key=read_key()\n",
    "    \n",
    "    with open(file+\".txt\", 'r') as text:\n",
    "                \n",
    "        et=text.read()\n",
    "        et=et.split()\n",
    "        \n",
    "    # the message must be converted from hex format to bytes\n",
    "    \n",
    "    m=[bytes.fromhex(i) for i in et]\n",
    "    \n",
    "      \n",
    "    x=Fernet(key)\n",
    "    \n",
    "    \n",
    "    li=[x.decrypt(i) for i in m]      \n",
    "        \n",
    "\n",
    "    \n",
    "    return li\n",
    "\n",
    "decrypt_msg()\n",
    "    "
   ]
  },
  {
   "cell_type": "code",
   "execution_count": null,
   "metadata": {},
   "outputs": [],
   "source": []
  }
 ],
 "metadata": {
  "kernelspec": {
   "display_name": "Python 3",
   "language": "python",
   "name": "python3"
  },
  "language_info": {
   "codemirror_mode": {
    "name": "ipython",
    "version": 3
   },
   "file_extension": ".py",
   "mimetype": "text/x-python",
   "name": "python",
   "nbconvert_exporter": "python",
   "pygments_lexer": "ipython3",
   "version": "3.8.3"
  }
 },
 "nbformat": 4,
 "nbformat_minor": 4
}
