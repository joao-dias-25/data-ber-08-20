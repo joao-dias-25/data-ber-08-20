{
 "cells": [
  {
   "cell_type": "markdown",
   "metadata": {},
   "source": [
    "# Plotting Multiple Data Series\n",
    "\n",
    "Complete the following set of exercises to solidify your knowledge of plotting multiple data series with pandas, matplotlib, and seaborn. Part of the challenge that comes with plotting multiple data series is transforming the data into the form needed to visualize it like you want. For some of the exercises in this lab, you will need to transform the data into the form most appropriate for generating the visualization and then create the plot."
   ]
  },
  {
   "cell_type": "code",
   "execution_count": 11,
   "metadata": {},
   "outputs": [],
   "source": [
    "import pandas as pd\n",
    "import matplotlib.pyplot as plt\n",
    "import seaborn as sns\n",
    "import warnings\n",
    "\n",
    "warnings.filterwarnings('ignore')\n",
    "%matplotlib inline"
   ]
  },
  {
   "cell_type": "code",
   "execution_count": 12,
   "metadata": {},
   "outputs": [
    {
     "data": {
      "text/html": [
       "<div>\n",
       "<style scoped>\n",
       "    .dataframe tbody tr th:only-of-type {\n",
       "        vertical-align: middle;\n",
       "    }\n",
       "\n",
       "    .dataframe tbody tr th {\n",
       "        vertical-align: top;\n",
       "    }\n",
       "\n",
       "    .dataframe thead th {\n",
       "        text-align: right;\n",
       "    }\n",
       "</style>\n",
       "<table border=\"1\" class=\"dataframe\">\n",
       "  <thead>\n",
       "    <tr style=\"text-align: right;\">\n",
       "      <th></th>\n",
       "      <th>Year</th>\n",
       "      <th>Month</th>\n",
       "      <th>Supplier</th>\n",
       "      <th>ItemCode</th>\n",
       "      <th>Description</th>\n",
       "      <th>ItemType</th>\n",
       "      <th>RetailSales</th>\n",
       "      <th>RetailTransfers</th>\n",
       "      <th>WarehouseSales</th>\n",
       "    </tr>\n",
       "  </thead>\n",
       "  <tbody>\n",
       "    <tr>\n",
       "      <th>0</th>\n",
       "      <td>2017</td>\n",
       "      <td>4</td>\n",
       "      <td>ROYAL WINE CORP</td>\n",
       "      <td>100200</td>\n",
       "      <td>GAMLA CAB - 750ML</td>\n",
       "      <td>WINE</td>\n",
       "      <td>0.00</td>\n",
       "      <td>1.0</td>\n",
       "      <td>0.0</td>\n",
       "    </tr>\n",
       "    <tr>\n",
       "      <th>1</th>\n",
       "      <td>2017</td>\n",
       "      <td>4</td>\n",
       "      <td>SANTA MARGHERITA USA INC</td>\n",
       "      <td>100749</td>\n",
       "      <td>SANTA MARGHERITA P/GRIG ALTO - 375ML</td>\n",
       "      <td>WINE</td>\n",
       "      <td>0.00</td>\n",
       "      <td>1.0</td>\n",
       "      <td>0.0</td>\n",
       "    </tr>\n",
       "    <tr>\n",
       "      <th>2</th>\n",
       "      <td>2017</td>\n",
       "      <td>4</td>\n",
       "      <td>JIM BEAM BRANDS CO</td>\n",
       "      <td>10103</td>\n",
       "      <td>KNOB CREEK BOURBON 9YR - 100P - 375ML</td>\n",
       "      <td>LIQUOR</td>\n",
       "      <td>0.00</td>\n",
       "      <td>8.0</td>\n",
       "      <td>0.0</td>\n",
       "    </tr>\n",
       "    <tr>\n",
       "      <th>3</th>\n",
       "      <td>2017</td>\n",
       "      <td>4</td>\n",
       "      <td>HEAVEN HILL DISTILLERIES INC</td>\n",
       "      <td>10120</td>\n",
       "      <td>J W DANT BOURBON 100P - 1.75L</td>\n",
       "      <td>LIQUOR</td>\n",
       "      <td>0.00</td>\n",
       "      <td>2.0</td>\n",
       "      <td>0.0</td>\n",
       "    </tr>\n",
       "    <tr>\n",
       "      <th>4</th>\n",
       "      <td>2017</td>\n",
       "      <td>4</td>\n",
       "      <td>ROYAL WINE CORP</td>\n",
       "      <td>101664</td>\n",
       "      <td>RAMON CORDOVA RIOJA - 750ML</td>\n",
       "      <td>WINE</td>\n",
       "      <td>0.00</td>\n",
       "      <td>4.0</td>\n",
       "      <td>0.0</td>\n",
       "    </tr>\n",
       "    <tr>\n",
       "      <th>...</th>\n",
       "      <td>...</td>\n",
       "      <td>...</td>\n",
       "      <td>...</td>\n",
       "      <td>...</td>\n",
       "      <td>...</td>\n",
       "      <td>...</td>\n",
       "      <td>...</td>\n",
       "      <td>...</td>\n",
       "      <td>...</td>\n",
       "    </tr>\n",
       "    <tr>\n",
       "      <th>128350</th>\n",
       "      <td>2018</td>\n",
       "      <td>2</td>\n",
       "      <td>ANHEUSER BUSCH INC</td>\n",
       "      <td>9997</td>\n",
       "      <td>HOEGAARDEN 4/6NR - 12OZ</td>\n",
       "      <td>BEER</td>\n",
       "      <td>66.46</td>\n",
       "      <td>59.0</td>\n",
       "      <td>212.0</td>\n",
       "    </tr>\n",
       "    <tr>\n",
       "      <th>128351</th>\n",
       "      <td>2018</td>\n",
       "      <td>2</td>\n",
       "      <td>COASTAL BREWING COMPANY LLC</td>\n",
       "      <td>99970</td>\n",
       "      <td>DOMINION OAK BARREL STOUT 4/6 NR - 12OZ</td>\n",
       "      <td>BEER</td>\n",
       "      <td>9.08</td>\n",
       "      <td>7.0</td>\n",
       "      <td>35.0</td>\n",
       "    </tr>\n",
       "    <tr>\n",
       "      <th>128352</th>\n",
       "      <td>2018</td>\n",
       "      <td>2</td>\n",
       "      <td>BOSTON BEER CORPORATION</td>\n",
       "      <td>99988</td>\n",
       "      <td>SAM ADAMS COLD SNAP 1/6 KG</td>\n",
       "      <td>KEGS</td>\n",
       "      <td>0.00</td>\n",
       "      <td>0.0</td>\n",
       "      <td>32.0</td>\n",
       "    </tr>\n",
       "    <tr>\n",
       "      <th>128353</th>\n",
       "      <td>2018</td>\n",
       "      <td>2</td>\n",
       "      <td>NaN</td>\n",
       "      <td>BC</td>\n",
       "      <td>BEER CREDIT</td>\n",
       "      <td>REF</td>\n",
       "      <td>0.00</td>\n",
       "      <td>0.0</td>\n",
       "      <td>-35.0</td>\n",
       "    </tr>\n",
       "    <tr>\n",
       "      <th>128354</th>\n",
       "      <td>2018</td>\n",
       "      <td>2</td>\n",
       "      <td>NaN</td>\n",
       "      <td>WC</td>\n",
       "      <td>WINE CREDIT</td>\n",
       "      <td>REF</td>\n",
       "      <td>0.00</td>\n",
       "      <td>0.0</td>\n",
       "      <td>-81.0</td>\n",
       "    </tr>\n",
       "  </tbody>\n",
       "</table>\n",
       "<p>128355 rows × 9 columns</p>\n",
       "</div>"
      ],
      "text/plain": [
       "        Year  Month                      Supplier ItemCode  \\\n",
       "0       2017      4               ROYAL WINE CORP   100200   \n",
       "1       2017      4      SANTA MARGHERITA USA INC   100749   \n",
       "2       2017      4            JIM BEAM BRANDS CO    10103   \n",
       "3       2017      4  HEAVEN HILL DISTILLERIES INC    10120   \n",
       "4       2017      4               ROYAL WINE CORP   101664   \n",
       "...      ...    ...                           ...      ...   \n",
       "128350  2018      2            ANHEUSER BUSCH INC     9997   \n",
       "128351  2018      2   COASTAL BREWING COMPANY LLC    99970   \n",
       "128352  2018      2       BOSTON BEER CORPORATION    99988   \n",
       "128353  2018      2                           NaN       BC   \n",
       "128354  2018      2                           NaN       WC   \n",
       "\n",
       "                                    Description ItemType  RetailSales  \\\n",
       "0                             GAMLA CAB - 750ML     WINE         0.00   \n",
       "1          SANTA MARGHERITA P/GRIG ALTO - 375ML     WINE         0.00   \n",
       "2         KNOB CREEK BOURBON 9YR - 100P - 375ML   LIQUOR         0.00   \n",
       "3                 J W DANT BOURBON 100P - 1.75L   LIQUOR         0.00   \n",
       "4                   RAMON CORDOVA RIOJA - 750ML     WINE         0.00   \n",
       "...                                         ...      ...          ...   \n",
       "128350                  HOEGAARDEN 4/6NR - 12OZ     BEER        66.46   \n",
       "128351  DOMINION OAK BARREL STOUT 4/6 NR - 12OZ     BEER         9.08   \n",
       "128352               SAM ADAMS COLD SNAP 1/6 KG     KEGS         0.00   \n",
       "128353                              BEER CREDIT      REF         0.00   \n",
       "128354                              WINE CREDIT      REF         0.00   \n",
       "\n",
       "        RetailTransfers  WarehouseSales  \n",
       "0                   1.0             0.0  \n",
       "1                   1.0             0.0  \n",
       "2                   8.0             0.0  \n",
       "3                   2.0             0.0  \n",
       "4                   4.0             0.0  \n",
       "...                 ...             ...  \n",
       "128350             59.0           212.0  \n",
       "128351              7.0            35.0  \n",
       "128352              0.0            32.0  \n",
       "128353              0.0           -35.0  \n",
       "128354              0.0           -81.0  \n",
       "\n",
       "[128355 rows x 9 columns]"
      ]
     },
     "execution_count": 12,
     "metadata": {},
     "output_type": "execute_result"
    }
   ],
   "source": [
    "data = pd.read_csv('../data/liquor_store_sales.csv')\n",
    "data"
   ]
  },
  {
   "cell_type": "markdown",
   "metadata": {},
   "source": [
    "## 1. Create a bar chart with bars for total Retail Sales, Retail Transfers, and Warehouse Sales by Item Type."
   ]
  },
  {
   "cell_type": "code",
   "execution_count": 30,
   "metadata": {},
   "outputs": [
    {
     "data": {
      "text/html": [
       "<div>\n",
       "<style scoped>\n",
       "    .dataframe tbody tr th:only-of-type {\n",
       "        vertical-align: middle;\n",
       "    }\n",
       "\n",
       "    .dataframe tbody tr th {\n",
       "        vertical-align: top;\n",
       "    }\n",
       "\n",
       "    .dataframe thead th {\n",
       "        text-align: right;\n",
       "    }\n",
       "</style>\n",
       "<table border=\"1\" class=\"dataframe\">\n",
       "  <thead>\n",
       "    <tr style=\"text-align: right;\">\n",
       "      <th></th>\n",
       "      <th>RetailSales</th>\n",
       "      <th>RetailTransfers</th>\n",
       "      <th>WarehouseSales</th>\n",
       "    </tr>\n",
       "    <tr>\n",
       "      <th>ItemType</th>\n",
       "      <th></th>\n",
       "      <th></th>\n",
       "      <th></th>\n",
       "    </tr>\n",
       "  </thead>\n",
       "  <tbody>\n",
       "    <tr>\n",
       "      <th>BEER</th>\n",
       "      <td>209763.11</td>\n",
       "      <td>234924.44</td>\n",
       "      <td>2437617.32</td>\n",
       "    </tr>\n",
       "    <tr>\n",
       "      <th>LIQUOR</th>\n",
       "      <td>309847.85</td>\n",
       "      <td>334176.41</td>\n",
       "      <td>33173.32</td>\n",
       "    </tr>\n",
       "    <tr>\n",
       "      <th>NON-ALCOHOL</th>\n",
       "      <td>8109.97</td>\n",
       "      <td>9058.37</td>\n",
       "      <td>8656.72</td>\n",
       "    </tr>\n",
       "    <tr>\n",
       "      <th>WINE</th>\n",
       "      <td>313400.42</td>\n",
       "      <td>340710.51</td>\n",
       "      <td>433009.47</td>\n",
       "    </tr>\n",
       "  </tbody>\n",
       "</table>\n",
       "</div>"
      ],
      "text/plain": [
       "             RetailSales  RetailTransfers  WarehouseSales\n",
       "ItemType                                                 \n",
       "BEER           209763.11        234924.44      2437617.32\n",
       "LIQUOR         309847.85        334176.41        33173.32\n",
       "NON-ALCOHOL      8109.97          9058.37         8656.72\n",
       "WINE           313400.42        340710.51       433009.47"
      ]
     },
     "execution_count": 30,
     "metadata": {},
     "output_type": "execute_result"
    }
   ],
   "source": [
    "data_fplot=data.groupby(by='ItemType').agg(sum).loc[:,['RetailSales','RetailTransfers','WarehouseSales']].drop(['DUNNAGE', 'KEGS','REF','STR_SUPPLIES']).copy()\n",
    " \n",
    "data_fplot"
   ]
  },
  {
   "cell_type": "code",
   "execution_count": 31,
   "metadata": {},
   "outputs": [
    {
     "data": {
      "text/plain": [
       "<matplotlib.axes._subplots.AxesSubplot at 0x1b5c4c7a520>"
      ]
     },
     "execution_count": 31,
     "metadata": {},
     "output_type": "execute_result"
    },
    {
     "data": {
      "image/png": "[encoded data removed]",
      "text/plain": [
       "<Figure size 432x288 with 1 Axes>"
      ]
     },
     "metadata": {
      "needs_background": "light"
     },
     "output_type": "display_data"
    }
   ],
   "source": [
    "data_fplot.plot(kind='bar')"
   ]
  },
  {
   "cell_type": "markdown",
   "metadata": {},
   "source": [
    "## 2. Create a horizontal bar chart showing sales mix for the top 10 suppliers with the most total sales. "
   ]
  },
  {
   "cell_type": "code",
   "execution_count": null,
   "metadata": {},
   "outputs": [],
   "source": []
  },
  {
   "cell_type": "markdown",
   "metadata": {},
   "source": [
    "## 3. Create a multi-line chart that shows average Retail Sales, Retail Transfers, and Warehouse Sales per month over time."
   ]
  },
  {
   "cell_type": "code",
   "execution_count": 45,
   "metadata": {},
   "outputs": [
    {
     "data": {
      "text/plain": [
       "<matplotlib.axes._subplots.AxesSubplot at 0x1b5c524fe80>"
      ]
     },
     "execution_count": 45,
     "metadata": {},
     "output_type": "execute_result"
    },
    {
     "data": {
      "image/png": "[encoded data removed]",
      "text/plain": [
       "<Figure size 432x288 with 1 Axes>"
      ]
     },
     "metadata": {
      "needs_background": "light"
     },
     "output_type": "display_data"
    }
   ],
   "source": [
    "data_pm=data.groupby(by=['Year','Month']).agg(sum).copy()\n",
    "data_pm\n",
    "\n",
    "data_pm.plot()\n"
   ]
  },
  {
   "cell_type": "markdown",
   "metadata": {},
   "source": [
    "## 4. Plot the same information as above but as a bar chart."
   ]
  },
  {
   "cell_type": "code",
   "execution_count": null,
   "metadata": {},
   "outputs": [],
   "source": []
  },
  {
   "cell_type": "markdown",
   "metadata": {},
   "source": [
    "## 5. Create a multi-line chart that shows Retail Sales summed by Item Type over time (Year & Month).\n",
    "\n",
    "*Hint: There should be a line representing each Item Type.*"
   ]
  },
  {
   "cell_type": "code",
   "execution_count": null,
   "metadata": {},
   "outputs": [],
   "source": []
  },
  {
   "cell_type": "markdown",
   "metadata": {},
   "source": [
    "## 6. Plot the same information as above but as a bar chart."
   ]
  },
  {
   "cell_type": "code",
   "execution_count": null,
   "metadata": {},
   "outputs": [],
   "source": []
  },
  {
   "cell_type": "markdown",
   "metadata": {},
   "source": [
    "## 7. Create a scatter plot showing the relationship between Retail Sales (x-axis) and Retail Transfers (y-axis) with the plot points color-coded according to their Item Type.\n",
    "\n",
    "*Hint: Seaborn's lmplot is the easiest way to generate the scatter plot.*"
   ]
  },
  {
   "cell_type": "code",
   "execution_count": null,
   "metadata": {},
   "outputs": [],
   "source": []
  },
  {
   "cell_type": "markdown",
   "metadata": {},
   "source": [
    "## 8. Create a scatter matrix using all the numeric fields in the data set with the plot points color-coded by Item Type.\n",
    "\n",
    "*Hint: Seaborn's pairplot may be your best option here.*"
   ]
  },
  {
   "cell_type": "code",
   "execution_count": null,
   "metadata": {},
   "outputs": [],
   "source": []
  }
 ],
 "metadata": {
  "kernelspec": {
   "display_name": "Python 3",
   "language": "python",
   "name": "python3"
  },
  "language_info": {
   "codemirror_mode": {
    "name": "ipython",
    "version": 3
   },
   "file_extension": ".py",
   "mimetype": "text/x-python",
   "name": "python",
   "nbconvert_exporter": "python",
   "pygments_lexer": "ipython3",
   "version": "3.8.3"
  }
 },
 "nbformat": 4,
 "nbformat_minor": 2
}
